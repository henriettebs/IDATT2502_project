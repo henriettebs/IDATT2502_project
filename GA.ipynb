{
 "cells": [
  {
   "cell_type": "code",
   "execution_count": 88,
   "metadata": {},
   "outputs": [],
   "source": [
    "import numpy as np\n",
    "import math\n",
    "import yfinance as yf\n",
    "\n",
    "#msft = yf.Ticker(\"MSFT\")\n",
    "#msft.splits"
   ]
  },
  {
   "cell_type": "code",
   "execution_count": 4,
   "metadata": {},
   "outputs": [],
   "source": [
    "#msft.calendar"
   ]
  },
  {
   "cell_type": "code",
   "execution_count": 31,
   "metadata": {},
   "outputs": [
    {
     "name": "stdout",
     "output_type": "stream",
     "text": [
      "[*********************100%***********************]  1 of 1 completed\n"
     ]
    }
   ],
   "source": [
    "data = yf.download(\"AAPL\", start=\"2021-07-17\", end=\"2021-10-29\")"
   ]
  },
  {
   "cell_type": "code",
   "execution_count": 32,
   "metadata": {},
   "outputs": [
    {
     "data": {
      "text/html": [
       "<div>\n",
       "<style scoped>\n",
       "    .dataframe tbody tr th:only-of-type {\n",
       "        vertical-align: middle;\n",
       "    }\n",
       "\n",
       "    .dataframe tbody tr th {\n",
       "        vertical-align: top;\n",
       "    }\n",
       "\n",
       "    .dataframe thead th {\n",
       "        text-align: right;\n",
       "    }\n",
       "</style>\n",
       "<table border=\"1\" class=\"dataframe\">\n",
       "  <thead>\n",
       "    <tr style=\"text-align: right;\">\n",
       "      <th></th>\n",
       "      <th>Open</th>\n",
       "      <th>High</th>\n",
       "      <th>Low</th>\n",
       "      <th>Close</th>\n",
       "      <th>Adj Close</th>\n",
       "      <th>Volume</th>\n",
       "    </tr>\n",
       "    <tr>\n",
       "      <th>Date</th>\n",
       "      <th></th>\n",
       "      <th></th>\n",
       "      <th></th>\n",
       "      <th></th>\n",
       "      <th></th>\n",
       "      <th></th>\n",
       "    </tr>\n",
       "  </thead>\n",
       "  <tbody>\n",
       "    <tr>\n",
       "      <th>2021-07-19</th>\n",
       "      <td>143.750000</td>\n",
       "      <td>144.070007</td>\n",
       "      <td>141.669998</td>\n",
       "      <td>142.449997</td>\n",
       "      <td>141.210052</td>\n",
       "      <td>121434600</td>\n",
       "    </tr>\n",
       "    <tr>\n",
       "      <th>2021-07-20</th>\n",
       "      <td>143.460007</td>\n",
       "      <td>147.100006</td>\n",
       "      <td>142.960007</td>\n",
       "      <td>146.149994</td>\n",
       "      <td>144.877823</td>\n",
       "      <td>96350000</td>\n",
       "    </tr>\n",
       "    <tr>\n",
       "      <th>2021-07-21</th>\n",
       "      <td>145.529999</td>\n",
       "      <td>146.130005</td>\n",
       "      <td>144.630005</td>\n",
       "      <td>145.399994</td>\n",
       "      <td>144.134354</td>\n",
       "      <td>74993500</td>\n",
       "    </tr>\n",
       "    <tr>\n",
       "      <th>2021-07-22</th>\n",
       "      <td>145.940002</td>\n",
       "      <td>148.199997</td>\n",
       "      <td>145.809998</td>\n",
       "      <td>146.800003</td>\n",
       "      <td>145.522202</td>\n",
       "      <td>77338200</td>\n",
       "    </tr>\n",
       "    <tr>\n",
       "      <th>2021-07-23</th>\n",
       "      <td>147.550003</td>\n",
       "      <td>148.720001</td>\n",
       "      <td>146.919998</td>\n",
       "      <td>148.559998</td>\n",
       "      <td>147.266861</td>\n",
       "      <td>71447400</td>\n",
       "    </tr>\n",
       "  </tbody>\n",
       "</table>\n",
       "</div>"
      ],
      "text/plain": [
       "                  Open        High         Low       Close   Adj Close  \\\n",
       "Date                                                                     \n",
       "2021-07-19  143.750000  144.070007  141.669998  142.449997  141.210052   \n",
       "2021-07-20  143.460007  147.100006  142.960007  146.149994  144.877823   \n",
       "2021-07-21  145.529999  146.130005  144.630005  145.399994  144.134354   \n",
       "2021-07-22  145.940002  148.199997  145.809998  146.800003  145.522202   \n",
       "2021-07-23  147.550003  148.720001  146.919998  148.559998  147.266861   \n",
       "\n",
       "               Volume  \n",
       "Date                   \n",
       "2021-07-19  121434600  \n",
       "2021-07-20   96350000  \n",
       "2021-07-21   74993500  \n",
       "2021-07-22   77338200  \n",
       "2021-07-23   71447400  "
      ]
     },
     "execution_count": 32,
     "metadata": {},
     "output_type": "execute_result"
    }
   ],
   "source": [
    "data.head()"
   ]
  },
  {
   "cell_type": "code",
   "execution_count": 33,
   "metadata": {},
   "outputs": [],
   "source": [
    "values = data['Close'].to_numpy()"
   ]
  },
  {
   "cell_type": "code",
   "execution_count": 34,
   "metadata": {},
   "outputs": [
    {
     "data": {
      "text/plain": [
       "array([142.44999695, 146.1499939 , 145.3999939 , 146.80000305,\n",
       "       148.55999756, 148.99000549, 146.77000427, 144.97999573,\n",
       "       145.63999939, 145.86000061, 145.52000427, 147.36000061,\n",
       "       146.94999695, 147.05999756, 146.13999939, 146.08999634,\n",
       "       145.6000061 , 145.86000061, 148.88999939, 149.1000061 ,\n",
       "       151.11999512, 150.19000244, 146.36000061, 146.69999695,\n",
       "       148.19000244, 149.71000671, 149.61999512, 148.36000061,\n",
       "       147.53999329, 148.6000061 , 153.11999512, 151.83000183,\n",
       "       152.50999451, 153.6499939 , 154.30000305, 156.69000244,\n",
       "       155.11000061, 154.07000732, 148.97000122, 149.55000305,\n",
       "       148.11999512, 149.02999878, 148.78999329, 146.05999756,\n",
       "       142.94000244, 143.42999268, 145.8500061 , 146.83000183,\n",
       "       146.91999817, 145.36999512, 141.91000366, 142.83000183,\n",
       "       141.5       , 142.6499939 , 139.13999939, 141.11000061,\n",
       "       142.        , 143.28999329, 142.8999939 , 142.80999756,\n",
       "       141.50999451, 140.91000366, 143.75999451, 144.83999634,\n",
       "       146.55000305, 148.75999451, 149.25999451, 149.47999573,\n",
       "       148.69000244, 148.63999939, 149.32000732, 148.8500061 ,\n",
       "       152.57000732])"
      ]
     },
     "execution_count": 34,
     "metadata": {},
     "output_type": "execute_result"
    }
   ],
   "source": [
    "values"
   ]
  },
  {
   "cell_type": "markdown",
   "metadata": {},
   "source": [
    "### Fitness function\n",
    "It has been measured of central tendency calculated keeping in mind opening and closing price of the stock per day\n",
    "\n",
    "**[Source](https://link.springer.com/chapter/10.1007/978-981-16-4301-9_10)**"
   ]
  },
  {
   "cell_type": "code",
   "execution_count": 35,
   "metadata": {},
   "outputs": [],
   "source": [
    "def percentage_change_close(dataset, first, second):\n",
    "    pcc = 100 * (dataset[dataset.size - first]-dataset[dataset.size - second])/dataset[dataset.size - 1]\n",
    "    return pcc"
   ]
  },
  {
   "cell_type": "code",
   "execution_count": 36,
   "metadata": {},
   "outputs": [
    {
     "name": "stdout",
     "output_type": "stream",
     "text": [
      "Percentage change in closing values: \n"
     ]
    },
    {
     "data": {
      "text/plain": [
       "-0.30805610417540935"
      ]
     },
     "execution_count": 36,
     "metadata": {},
     "output_type": "execute_result"
    }
   ],
   "source": [
    "print(\"Percentage change in closing values: \")\n",
    "percentage_change_close(values, 2, 3)"
   ]
  },
  {
   "cell_type": "markdown",
   "metadata": {},
   "source": [
    "### Converts decimal number to binary number\n",
    "Splits whole and decimal number, and converts them seperately. Iterates through all the values, and add them to an array."
   ]
  },
  {
   "cell_type": "code",
   "execution_count": 46,
   "metadata": {},
   "outputs": [],
   "source": [
    "def float_bin(number, places):\n",
    "    whole, dec = str(number).split('.')\n",
    "\n",
    "    whole = int(whole)\n",
    "    dec = int(dec)\n",
    "\n",
    "    res = bin(whole).lstrip(\"0b\") + \".\"\n",
    "\n",
    "    for i in range(places):\n",
    "        whole, dec = str((decimal_converter(dec)) * 2).split(\".\")\n",
    "\n",
    "        dec = int(dec)\n",
    "\n",
    "        res += whole\n",
    "\n",
    "    res = float(res)\n",
    "    return res\n",
    "\n",
    "def decimal_converter(num):\n",
    "    while num > 1:\n",
    "        num /= 10\n",
    "    return num"
   ]
  },
  {
   "cell_type": "code",
   "execution_count": 64,
   "metadata": {},
   "outputs": [],
   "source": [
    "def float_bin_whole(number):\n",
    "    whole, dec = str(number).split('.')\n",
    "    whole = int(whole)\n",
    "\n",
    "    res = bin(whole).lstrip(\"0b\")\n",
    "    #res = int(res)\n",
    "    return res"
   ]
  },
  {
   "cell_type": "code",
   "execution_count": 65,
   "metadata": {},
   "outputs": [],
   "source": [
    "def binary_array():\n",
    "    binary_num = np.array([])\n",
    "    for i in range(values.size):\n",
    "        value = float_bin_whole(values[i])\n",
    "        binary_num = np.append(binary_num, value)\n",
    "    return binary_num"
   ]
  },
  {
   "cell_type": "code",
   "execution_count": 73,
   "metadata": {},
   "outputs": [
    {
     "name": "stdout",
     "output_type": "stream",
     "text": [
      "['10001110' '10010010' '10010001' '10010010' '10010100' '10010100'\n",
      " '10010010' '10010000' '10010001' '10010001' '10010001' '10010011'\n",
      " '10010010' '10010011' '10010010' '10010010' '10010001' '10010001'\n",
      " '10010100' '10010101' '10010111' '10010110' '10010010' '10010010'\n",
      " '10010100' '10010101' '10010101' '10010100' '10010011' '10010100'\n",
      " '10011001' '10010111' '10011000' '10011001' '10011010' '10011100'\n",
      " '10011011' '10011010' '10010100' '10010101' '10010100' '10010101'\n",
      " '10010100' '10010010' '10001110' '10001111' '10010001' '10010010'\n",
      " '10010010' '10010001' '10001101' '10001110' '10001101' '10001110'\n",
      " '10001011' '10001101' '10001110' '10001111' '10001110' '10001110'\n",
      " '10001101' '10001100' '10001111' '10010000' '10010010' '10010100'\n",
      " '10010101' '10010101' '10010100' '10010100' '10010101' '10010100'\n",
      " '10011000']\n"
     ]
    }
   ],
   "source": [
    "binary_num = np.array([])\n",
    "for i in range(values.size):\n",
    "    value = float_bin_whole(values[i])\n",
    "    #@value = int(value)\n",
    "    binary_num = np.append(binary_num, value)\n",
    "print(binary_num)"
   ]
  },
  {
   "cell_type": "markdown",
   "metadata": {},
   "source": [
    "### Genes\n",
    "Random numbers (originally between -100 and 100)"
   ]
  },
  {
   "cell_type": "code",
   "execution_count": 49,
   "metadata": {},
   "outputs": [],
   "source": [
    "def genes():\n",
    "    a = 0\n",
    "    b = 100\n",
    "    x = a + (b - a) * np.random.rand(1,4)\n",
    "    genes = (x)\n",
    "    return genes"
   ]
  },
  {
   "cell_type": "code",
   "execution_count": 50,
   "metadata": {},
   "outputs": [
    {
     "name": "stdout",
     "output_type": "stream",
     "text": [
      "[96.580698   81.53914959 62.42003496  4.71067063]\n"
     ]
    }
   ],
   "source": [
    "arr = np.array([])\n",
    "arr = genes()\n",
    "print(arr[0])"
   ]
  },
  {
   "cell_type": "markdown",
   "metadata": {},
   "source": [
    "### Failed fitness function\n",
    "Fitness function always returns number close to zero. Guessed value(y), mean squared error and error are abnormly huge.\n",
    "\n",
    "Taken from article found [here](https://medium.com/analytics-vidhya/stock-price-prediction-using-genetic-algorithms-65c64b002d9)"
   ]
  },
  {
   "cell_type": "code",
   "execution_count": 51,
   "metadata": {},
   "outputs": [],
   "source": [
    "from random import randint\n",
    "\n",
    "def fitness(data, genes):\n",
    "    mse = 0\n",
    "    x = genes[0]\n",
    "    y = x[0] + (1 + x[1])*data[data.size-2] - x[2]*data[data.size-3] + randint(0,1) + x[3]*randint(100,200)\n",
    "    yi = data[data.size-1]\n",
    "    mse = np.square(np.subtract(yi, y)).mean()\n",
    "    error = np.square(mse/10)\n",
    "    fitness = 1/error\n",
    "    return fitness, error, mse, y"
   ]
  },
  {
   "cell_type": "code",
   "execution_count": 52,
   "metadata": {},
   "outputs": [
    {
     "data": {
      "text/plain": [
       "(6.852339270487002e-13,\n",
       " 1459355645607.0352,\n",
       " 12080379.32188818,\n",
       " 3628.254015097103)"
      ]
     },
     "execution_count": 52,
     "metadata": {},
     "output_type": "execute_result"
    }
   ],
   "source": [
    "fitness(values, arr)"
   ]
  },
  {
   "cell_type": "markdown",
   "metadata": {},
   "source": [
    "### Possible fitness solution??"
   ]
  },
  {
   "cell_type": "code",
   "execution_count": 53,
   "metadata": {},
   "outputs": [],
   "source": [
    "def fitness_possible(data):\n",
    "    x1 = data.size - 1\n",
    "    x2 = data.size - 5\n",
    "    change = 1 + (percentage_change_close(data, 5, 6)/100)\n",
    "    y = (change*(data[x1] + data[x2]))/2\n",
    "    yi = data[data.size - 1]\n",
    "\n",
    "    mse = np.square(np.subtract(yi, y)).mean()\n",
    "    error = np.square(mse/10)\n",
    "    fitness = 1/error\n",
    "\n",
    "    return y, yi, data[x1], data[x2], change, mse, error, fitness"
   ]
  },
  {
   "cell_type": "code",
   "execution_count": 54,
   "metadata": {},
   "outputs": [
    {
     "data": {
      "text/plain": [
       "(149.8500567486114,\n",
       " 152.57000732421875,\n",
       " 152.57000732421875,\n",
       " 148.69000244140625,\n",
       " 0.9948220931493171,\n",
       " 7.398131133746789,\n",
       " 0.5473234427211355,\n",
       " 1.8270732110948622)"
      ]
     },
     "execution_count": 54,
     "metadata": {},
     "output_type": "execute_result"
    }
   ],
   "source": [
    "fitness_possible(values)"
   ]
  },
  {
   "cell_type": "code",
   "execution_count": null,
   "metadata": {},
   "outputs": [],
   "source": []
  },
  {
   "cell_type": "markdown",
   "metadata": {},
   "source": [
    "## Mutation"
   ]
  },
  {
   "cell_type": "code",
   "execution_count": 148,
   "metadata": {},
   "outputs": [],
   "source": [
    "def mutation(x):\n",
    "    base = 7\n",
    "    start = np.random.randint(1, math.floor(base))\n",
    "    #end = np.random.randint(start, math.floor(base))\n",
    "    end = start + 1\n",
    "    x_string = str(bin(x))[2:]\n",
    "\n",
    "    if len(x_string) != base:\n",
    "        for i in range(base - len(x_string)):\n",
    "            x_string = '0' + x_string\n",
    "    \n",
    "    x_string = list(x_string)\n",
    "    for c in range(start, end):\n",
    "        x_string[c] = '1' if x_string[c] == '0' else '0'\n",
    "\n",
    "    \n",
    "    return ''.join(x_string)\n"
   ]
  },
  {
   "cell_type": "code",
   "execution_count": 152,
   "metadata": {},
   "outputs": [
    {
     "name": "stdout",
     "output_type": "stream",
     "text": [
      "Original bitstring: 10010100\n",
      "Mutated bitstring: 10011100\n"
     ]
    }
   ],
   "source": [
    "x = values[values.size - 2]\n",
    "y = int(x)\n",
    "\n",
    "b = float_bin_whole(x)\n",
    "print(\"Original bitstring: \" + b)\n",
    "\n",
    "mutated = mutation(y)\n",
    "print(\"Mutated bitstring: \" + mutated)"
   ]
  },
  {
   "cell_type": "code",
   "execution_count": null,
   "metadata": {},
   "outputs": [],
   "source": []
  },
  {
   "cell_type": "code",
   "execution_count": null,
   "metadata": {},
   "outputs": [],
   "source": []
  }
 ],
 "metadata": {
  "kernelspec": {
   "display_name": "Python 3.10.8 64-bit",
   "language": "python",
   "name": "python3"
  },
  "language_info": {
   "codemirror_mode": {
    "name": "ipython",
    "version": 3
   },
   "file_extension": ".py",
   "mimetype": "text/x-python",
   "name": "python",
   "nbconvert_exporter": "python",
   "pygments_lexer": "ipython3",
   "version": "3.10.8"
  },
  "orig_nbformat": 4,
  "vscode": {
   "interpreter": {
    "hash": "aee8b7b246df8f9039afb4144a1f6fd8d2ca17a180786b69acc140d282b71a49"
   }
  }
 },
 "nbformat": 4,
 "nbformat_minor": 2
}
