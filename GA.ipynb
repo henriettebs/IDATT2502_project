{
 "cells": [
  {
   "cell_type": "code",
   "execution_count": 99,
   "metadata": {},
   "outputs": [],
   "source": [
    "import numpy as np\n",
    "import yfinance as yf\n",
    "\n",
    "#msft = yf.Ticker(\"MSFT\")\n",
    "#msft.splits"
   ]
  },
  {
   "cell_type": "code",
   "execution_count": 100,
   "metadata": {},
   "outputs": [],
   "source": [
    "#msft.calendar"
   ]
  },
  {
   "cell_type": "code",
   "execution_count": 101,
   "metadata": {},
   "outputs": [
    {
     "name": "stdout",
     "output_type": "stream",
     "text": [
      "[*********************100%***********************]  1 of 1 completed\n"
     ]
    }
   ],
   "source": [
    "data = yf.download(\"AAPL\", start=\"2022-10-17\", end=\"2022-10-29\")"
   ]
  },
  {
   "cell_type": "code",
   "execution_count": 102,
   "metadata": {},
   "outputs": [
    {
     "data": {
      "text/html": [
       "<div>\n",
       "<style scoped>\n",
       "    .dataframe tbody tr th:only-of-type {\n",
       "        vertical-align: middle;\n",
       "    }\n",
       "\n",
       "    .dataframe tbody tr th {\n",
       "        vertical-align: top;\n",
       "    }\n",
       "\n",
       "    .dataframe thead th {\n",
       "        text-align: right;\n",
       "    }\n",
       "</style>\n",
       "<table border=\"1\" class=\"dataframe\">\n",
       "  <thead>\n",
       "    <tr style=\"text-align: right;\">\n",
       "      <th></th>\n",
       "      <th>Open</th>\n",
       "      <th>High</th>\n",
       "      <th>Low</th>\n",
       "      <th>Close</th>\n",
       "      <th>Adj Close</th>\n",
       "      <th>Volume</th>\n",
       "    </tr>\n",
       "    <tr>\n",
       "      <th>Date</th>\n",
       "      <th></th>\n",
       "      <th></th>\n",
       "      <th></th>\n",
       "      <th></th>\n",
       "      <th></th>\n",
       "      <th></th>\n",
       "    </tr>\n",
       "  </thead>\n",
       "  <tbody>\n",
       "    <tr>\n",
       "      <th>2022-10-17</th>\n",
       "      <td>141.070007</td>\n",
       "      <td>142.899994</td>\n",
       "      <td>140.270004</td>\n",
       "      <td>142.410004</td>\n",
       "      <td>142.410004</td>\n",
       "      <td>85250900</td>\n",
       "    </tr>\n",
       "    <tr>\n",
       "      <th>2022-10-18</th>\n",
       "      <td>145.490005</td>\n",
       "      <td>146.699997</td>\n",
       "      <td>140.610001</td>\n",
       "      <td>143.750000</td>\n",
       "      <td>143.750000</td>\n",
       "      <td>99136600</td>\n",
       "    </tr>\n",
       "    <tr>\n",
       "      <th>2022-10-19</th>\n",
       "      <td>141.690002</td>\n",
       "      <td>144.949997</td>\n",
       "      <td>141.500000</td>\n",
       "      <td>143.860001</td>\n",
       "      <td>143.860001</td>\n",
       "      <td>61758300</td>\n",
       "    </tr>\n",
       "    <tr>\n",
       "      <th>2022-10-20</th>\n",
       "      <td>143.020004</td>\n",
       "      <td>145.889999</td>\n",
       "      <td>142.649994</td>\n",
       "      <td>143.389999</td>\n",
       "      <td>143.389999</td>\n",
       "      <td>64522000</td>\n",
       "    </tr>\n",
       "    <tr>\n",
       "      <th>2022-10-21</th>\n",
       "      <td>142.869995</td>\n",
       "      <td>147.850006</td>\n",
       "      <td>142.649994</td>\n",
       "      <td>147.270004</td>\n",
       "      <td>147.270004</td>\n",
       "      <td>86464700</td>\n",
       "    </tr>\n",
       "  </tbody>\n",
       "</table>\n",
       "</div>"
      ],
      "text/plain": [
       "                  Open        High         Low       Close   Adj Close  \\\n",
       "Date                                                                     \n",
       "2022-10-17  141.070007  142.899994  140.270004  142.410004  142.410004   \n",
       "2022-10-18  145.490005  146.699997  140.610001  143.750000  143.750000   \n",
       "2022-10-19  141.690002  144.949997  141.500000  143.860001  143.860001   \n",
       "2022-10-20  143.020004  145.889999  142.649994  143.389999  143.389999   \n",
       "2022-10-21  142.869995  147.850006  142.649994  147.270004  147.270004   \n",
       "\n",
       "              Volume  \n",
       "Date                  \n",
       "2022-10-17  85250900  \n",
       "2022-10-18  99136600  \n",
       "2022-10-19  61758300  \n",
       "2022-10-20  64522000  \n",
       "2022-10-21  86464700  "
      ]
     },
     "execution_count": 102,
     "metadata": {},
     "output_type": "execute_result"
    }
   ],
   "source": [
    "data.head()"
   ]
  },
  {
   "cell_type": "code",
   "execution_count": 103,
   "metadata": {},
   "outputs": [],
   "source": [
    "values = data['Close'].to_numpy()"
   ]
  },
  {
   "cell_type": "code",
   "execution_count": 104,
   "metadata": {},
   "outputs": [
    {
     "data": {
      "text/plain": [
       "array([142.41000366, 143.75      , 143.86000061, 143.38999939,\n",
       "       147.27000427, 149.44999695, 152.33999634, 149.3500061 ,\n",
       "       144.80000305, 155.74000549])"
      ]
     },
     "execution_count": 104,
     "metadata": {},
     "output_type": "execute_result"
    }
   ],
   "source": [
    "values"
   ]
  },
  {
   "cell_type": "code",
   "execution_count": 105,
   "metadata": {},
   "outputs": [],
   "source": [
    "def float_bin(number, places):\n",
    "    whole, dec = str(number).split('.')\n",
    "\n",
    "    whole = int(whole)\n",
    "    dec = int(dec)\n",
    "\n",
    "    res = bin(whole).lstrip(\"0b\")+\".\"\n",
    "\n",
    "    for i in range(places):\n",
    "        whole, dec = str((decimal_converter(dec)) * 2).split(\".\")\n",
    "\n",
    "        dec = int(dec)\n",
    "\n",
    "        res += whole\n",
    "\n",
    "    res = float(res)\n",
    "    return res\n",
    "\n",
    "def decimal_converter(num):\n",
    "    while num > 1:\n",
    "        num /= 10\n",
    "    return num"
   ]
  },
  {
   "cell_type": "code",
   "execution_count": 106,
   "metadata": {},
   "outputs": [
    {
     "name": "stdout",
     "output_type": "stream",
     "text": [
      "[10001110.01 10001111.11 10001111.11 10001111.01 10010011.01 10010101.01\n",
      " 10011000.01 10010101.01 10010000.11 10011011.1 ]\n"
     ]
    }
   ],
   "source": [
    "binary_num = np.array([])\n",
    "for i in range(values.size):\n",
    "    value = float_bin(values[i], 2)\n",
    "    binary_num = np.append(binary_num, value)\n",
    "print(binary_num)"
   ]
  },
  {
   "cell_type": "code",
   "execution_count": 122,
   "metadata": {},
   "outputs": [],
   "source": [
    "def genes():\n",
    "    a = -100\n",
    "    b = 100\n",
    "    x = a + (b - a) * np.random.rand(1,4)\n",
    "    genes = (x)\n",
    "    print(genes)"
   ]
  },
  {
   "cell_type": "code",
   "execution_count": 132,
   "metadata": {},
   "outputs": [
    {
     "ename": "TypeError",
     "evalue": "array() missing required argument 'object' (pos 0)",
     "output_type": "error",
     "traceback": [
      "\u001b[0;31m---------------------------------------------------------------------------\u001b[0m",
      "\u001b[0;31mTypeError\u001b[0m                                 Traceback (most recent call last)",
      "Cell \u001b[0;32mIn [132], line 1\u001b[0m\n\u001b[0;32m----> 1\u001b[0m arr \u001b[39m=\u001b[39m np\u001b[39m.\u001b[39marray()\n\u001b[1;32m      2\u001b[0m arr \u001b[39m=\u001b[39m genes()\n\u001b[1;32m      3\u001b[0m \u001b[39mprint\u001b[39m(arr)\n",
      "\u001b[0;31mTypeError\u001b[0m: array() missing required argument 'object' (pos 0)"
     ]
    }
   ],
   "source": [
    "arr = np.array()\n",
    "arr = genes()\n",
    "print(arr)"
   ]
  },
  {
   "cell_type": "code",
   "execution_count": 108,
   "metadata": {},
   "outputs": [
    {
     "ename": "SyntaxError",
     "evalue": "incomplete input (2416764210.py, line 2)",
     "output_type": "error",
     "traceback": [
      "\u001b[0;36m  Cell \u001b[0;32mIn [108], line 2\u001b[0;36m\u001b[0m\n\u001b[0;31m    \u001b[0m\n\u001b[0m    ^\u001b[0m\n\u001b[0;31mSyntaxError\u001b[0m\u001b[0;31m:\u001b[0m incomplete input\n"
     ]
    }
   ],
   "source": [
    "def fitness():\n",
    "    \n"
   ]
  }
 ],
 "metadata": {
  "kernelspec": {
   "display_name": "Python 3.10.8 64-bit",
   "language": "python",
   "name": "python3"
  },
  "language_info": {
   "codemirror_mode": {
    "name": "ipython",
    "version": 3
   },
   "file_extension": ".py",
   "mimetype": "text/x-python",
   "name": "python",
   "nbconvert_exporter": "python",
   "pygments_lexer": "ipython3",
   "version": "3.10.8"
  },
  "orig_nbformat": 4,
  "vscode": {
   "interpreter": {
    "hash": "aee8b7b246df8f9039afb4144a1f6fd8d2ca17a180786b69acc140d282b71a49"
   }
  }
 },
 "nbformat": 4,
 "nbformat_minor": 2
}
