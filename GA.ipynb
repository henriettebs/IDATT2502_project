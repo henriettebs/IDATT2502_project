{
 "cells": [
  {
   "cell_type": "code",
   "execution_count": 392,
   "metadata": {},
   "outputs": [
    {
     "name": "stdout",
     "output_type": "stream",
     "text": [
      "[*********************100%***********************]  1 of 1 completed\n"
     ]
    }
   ],
   "source": [
    "import numpy as np\n",
    "import math\n",
    "import yfinance as yf\n",
    "\n",
    "data = yf.download(\"AAPL\", start=\"2021-06-09\", end=\"2021-10-29\")"
   ]
  },
  {
   "cell_type": "code",
   "execution_count": 395,
   "metadata": {},
   "outputs": [
    {
     "data": {
      "text/plain": [
       "array([127.12999725, 126.11000061, 127.34999847, 130.47999573,\n",
       "       129.63999939, 130.1499939 , 131.78999329, 130.46000671,\n",
       "       132.30000305, 133.97999573, 133.69999695, 133.41000366,\n",
       "       133.11000061, 134.77999878, 136.33000183, 136.96000671,\n",
       "       137.27000427, 139.96000671, 142.02000427, 144.57000732,\n",
       "       143.24000549, 145.11000061, 144.5       , 145.63999939,\n",
       "       149.1499939 , 148.47999573, 146.38999939, 142.44999695,\n",
       "       146.1499939 , 145.3999939 , 146.80000305, 148.55999756,\n",
       "       148.99000549, 146.77000427, 144.97999573, 145.63999939,\n",
       "       145.86000061, 145.52000427, 147.36000061, 146.94999695,\n",
       "       147.05999756, 146.13999939, 146.08999634, 145.6000061 ,\n",
       "       145.86000061, 148.88999939, 149.1000061 , 151.11999512,\n",
       "       150.19000244, 146.36000061, 146.69999695, 148.19000244,\n",
       "       149.71000671, 149.61999512, 148.36000061, 147.53999329,\n",
       "       148.6000061 , 153.11999512, 151.83000183, 152.50999451,\n",
       "       153.6499939 , 154.30000305, 156.69000244, 155.11000061,\n",
       "       154.07000732, 148.97000122, 149.55000305, 148.11999512,\n",
       "       149.02999878, 148.78999329, 146.05999756, 142.94000244,\n",
       "       143.42999268, 145.8500061 , 146.83000183, 146.91999817,\n",
       "       145.36999512, 141.91000366, 142.83000183, 141.5       ,\n",
       "       142.6499939 , 139.13999939, 141.11000061, 142.        ,\n",
       "       143.28999329, 142.8999939 , 142.80999756, 141.50999451,\n",
       "       140.91000366, 143.75999451, 144.83999634, 146.55000305,\n",
       "       148.75999451, 149.25999451, 149.47999573, 148.69000244,\n",
       "       148.63999939, 149.32000732, 148.8500061 , 152.57000732])"
      ]
     },
     "execution_count": 395,
     "metadata": {},
     "output_type": "execute_result"
    }
   ],
   "source": [
    "values = data['Close'].to_numpy()\n",
    "values"
   ]
  },
  {
   "cell_type": "code",
   "execution_count": 398,
   "metadata": {},
   "outputs": [],
   "source": [
    "def generaterandom(data):\n",
    "    max = np.max(data) + 50\n",
    "    min = np.min(data) - 50\n",
    "    newfloat = np.random.randint(min, max)\n",
    "    return newfloat"
   ]
  },
  {
   "cell_type": "code",
   "execution_count": 399,
   "metadata": {},
   "outputs": [
    {
     "name": "stdout",
     "output_type": "stream",
     "text": [
      "[131. 205.  97. 184. 168. 204. 128.  85. 152. 197.  87. 147. 187. 169.\n",
      "  94. 173. 129. 125. 163.  98. 189.  78. 116. 204. 125. 145. 188.  86.\n",
      "  76. 128. 162. 140. 129. 113. 126. 126.  80. 135. 165. 196.  77.  85.\n",
      " 193. 167. 134. 117. 134. 199. 186. 146. 151. 170. 171. 145. 161. 126.\n",
      " 189. 107. 171. 102.  99. 179. 168.  88. 144. 133.  91. 117. 155. 145.\n",
      " 136. 172.  76. 110.  96. 204.  76.  77. 199. 160. 202. 204. 158. 139.\n",
      " 165. 195. 129. 109. 146. 168. 181. 194. 152. 170. 152.  81. 116. 114.\n",
      " 203. 108.]\n"
     ]
    }
   ],
   "source": [
    "randomvalues = np.array([])\n",
    "for i in range(100):\n",
    "    new = generaterandom(values)\n",
    "    randomvalues = np.append(randomvalues, new)\n",
    "print(randomvalues)"
   ]
  },
  {
   "cell_type": "markdown",
   "metadata": {},
   "source": [
    "### Fitness function\n",
    "It has been measured of central tendency calculated keeping in mind opening and closing price of the stock per day\n",
    "\n",
    "**[Source](https://link.springer.com/chapter/10.1007/978-981-16-4301-9_10)**"
   ]
  },
  {
   "cell_type": "code",
   "execution_count": 381,
   "metadata": {},
   "outputs": [],
   "source": [
    "def percentage_change_close(dataset, first, second):\n",
    "    pcc = 100 * (dataset[dataset.size - first]-dataset[dataset.size - second])/dataset[dataset.size - 1]\n",
    "    return pcc"
   ]
  },
  {
   "cell_type": "code",
   "execution_count": 382,
   "metadata": {},
   "outputs": [
    {
     "name": "stdout",
     "output_type": "stream",
     "text": [
      "Percentage change in closing values: \n"
     ]
    },
    {
     "data": {
      "text/plain": [
       "-0.30805610417540935"
      ]
     },
     "execution_count": 382,
     "metadata": {},
     "output_type": "execute_result"
    }
   ],
   "source": [
    "print(\"Percentage change in closing values: \")\n",
    "percentage_change_close(values, 2, 3)"
   ]
  },
  {
   "cell_type": "markdown",
   "metadata": {},
   "source": [
    "### Converts decimal number to binary number\n",
    "Splits whole and decimal number, and converts them seperately. Iterates through all the values, and add them to an array."
   ]
  },
  {
   "cell_type": "code",
   "execution_count": 383,
   "metadata": {},
   "outputs": [],
   "source": [
    "def float_bin(number, places):\n",
    "    whole, dec = str(number).split('.')\n",
    "\n",
    "    whole = int(whole)\n",
    "    dec = int(dec)\n",
    "\n",
    "    res = bin(whole).lstrip(\"0b\") + \".\"\n",
    "\n",
    "    for i in range(places):\n",
    "        whole, dec = str((decimal_converter(dec)) * 2).split(\".\")\n",
    "\n",
    "        dec = int(dec)\n",
    "\n",
    "        res += whole\n",
    "\n",
    "    res = float(res)\n",
    "    return res\n",
    "\n",
    "def decimal_converter(num):\n",
    "    while num > 1:\n",
    "        num /= 10\n",
    "    return num"
   ]
  },
  {
   "cell_type": "code",
   "execution_count": 384,
   "metadata": {},
   "outputs": [],
   "source": [
    "def float_bin_whole(number):\n",
    "    whole, dec = str(number).split('.')\n",
    "    whole = int(whole)\n",
    "\n",
    "    res = bin(whole).lstrip(\"0b\")\n",
    "    return res"
   ]
  },
  {
   "cell_type": "code",
   "execution_count": 385,
   "metadata": {},
   "outputs": [
    {
     "name": "stdout",
     "output_type": "stream",
     "text": [
      "['1111111' '1111110' '1111111' '10000010' '10000001' '10000010' '10000011'\n",
      " '10000010' '10000100' '10000101' '10000101' '10000101' '10000101'\n",
      " '10000110' '10001000' '10001000' '10001001' '10001011' '10001110'\n",
      " '10010000' '10001111' '10010001' '10010000' '10010001' '10010101'\n",
      " '10010100' '10010010' '10001110' '10010010' '10010001' '10010010'\n",
      " '10010100' '10010100' '10010010' '10010000' '10010001' '10010001'\n",
      " '10010001' '10010011' '10010010' '10010011' '10010010' '10010010'\n",
      " '10010001' '10010001' '10010100' '10010101' '10010111' '10010110'\n",
      " '10010010' '10010010' '10010100' '10010101' '10010101' '10010100'\n",
      " '10010011' '10010100' '10011001' '10010111' '10011000' '10011001'\n",
      " '10011010' '10011100' '10011011' '10011010' '10010100' '10010101'\n",
      " '10010100' '10010101' '10010100' '10010010' '10001110' '10001111'\n",
      " '10010001' '10010010' '10010010' '10010001' '10001101' '10001110'\n",
      " '10001101' '10001110' '10001011' '10001101' '10001110' '10001111'\n",
      " '10001110' '10001110' '10001101' '10001100' '10001111' '10010000'\n",
      " '10010010' '10010100' '10010101' '10010101' '10010100' '10010100'\n",
      " '10010101' '10010100' '10011000']\n"
     ]
    }
   ],
   "source": [
    "binary_num = np.array([])\n",
    "for i in range(values.size):\n",
    "    value = float_bin_whole(values[i])\n",
    "    binary_num = np.append(binary_num, value)\n",
    "print(binary_num)"
   ]
  },
  {
   "cell_type": "markdown",
   "metadata": {},
   "source": [
    "### Possible fitness solution?"
   ]
  },
  {
   "cell_type": "code",
   "execution_count": 408,
   "metadata": {},
   "outputs": [],
   "source": [
    "def fitness_possible(data, a, b, c, pred):\n",
    "    x1 = data.size - a\n",
    "    x2 = data.size - b\n",
    "    change = 1 + (percentage_change_close(data, b, c)/100)\n",
    "    y = (change*(data[x1] + data[x2]))/2\n",
    "    yi = data[data.size - pred]\n",
    "\n",
    "    mse = np.square(np.subtract(yi, y)).mean()\n",
    "    error = np.square(mse/10)\n",
    "    fitness = 1/error\n",
    "    bestfitness = -np.abs(yi-y)\n",
    "\n",
    "    returnstring = \"Error: \" + str(error) + \"\\nFitness: \" + str(fitness) + \"\\nBest fitness: \" + str(bestfitness) + \"\\n\"\n",
    "    return returnstring, bestfitness"
   ]
  },
  {
   "cell_type": "code",
   "execution_count": 419,
   "metadata": {},
   "outputs": [
    {
     "name": "stdout",
     "output_type": "stream",
     "text": [
      "[ -47.56481481  -50.73148148  -80.25462963  -18.91666667 -106.83333333\n",
      "  -53.61111111  -23.82407407  -58.06944444  -16.0462963   -29.78703704\n",
      "  -64.11111111  -99.72222222  -98.          -94.33333333  -69.74074074\n",
      "  -79.75        -45.35185185 -123.94444444  -88.36111111 -180.26851852\n",
      "  -20.72222222 -213.16666667 -203.          -54.55555556  -68.57407407\n",
      "  -85.66666667  -55.33333333  -65.16666667  -44.50925926  -66.77777778\n",
      "  -23.74074074  -91.44444444  -16.40740741 -119.31481481 -102.92592593\n",
      "  -29.03703704 -214.01851852  -32.86111111 -142.70833333 -118.38888889\n",
      "  -68.53703704  -63.33333333   -0.54166667  -24.24074074   -9.83333333\n",
      "   -1.53703704  -55.49537037   -3.06944444  -76.5          -4.98148148\n",
      " -162.35648148   -6.70833333  -93.25462963  -46.84722222   -2.73148148\n",
      " -226.          -17.7037037  -201.25        -90.68055556 -153.63888889\n",
      "  -30.38888889 -103.28703704  -32.          -61.16666667  -24.2037037\n",
      "  -17.32407407   -5.89814815  -69.53703704  -74.81481481  -69.44444444\n",
      " -123.5        -115.5462963  -111.33333333 -151.75       -153.53703704\n",
      "  -91.2962963  -206.69444444 -129.98611111  -20.86574074  -12.58333333\n",
      "  -40.66666667  -87.74074074 -136.4537037   -88.20833333  -63.41666667\n",
      " -149.92592593  -90.77777778 -189.16666667  -54.16666667 -195.75462963\n",
      " -125.68055556 -120.44444444 -136.33333333  -30.44444444 -113.77777778\n",
      " -168.          -70.46296296 -106.77777778 -190.61574074 -152.64351852]\n"
     ]
    }
   ],
   "source": [
    "bestarr = np.array([])\n",
    "for i in range(randomvalues.size):\n",
    "    fitness = fitness_possible(randomvalues, i + 2, i + 3, i + 4, i + 1)\n",
    "    best = fitness[1]\n",
    "    bestarr = np.append(bestarr, best)\n",
    "\n",
    "print(bestarr)"
   ]
  },
  {
   "cell_type": "markdown",
   "metadata": {},
   "source": [
    "## Mutation"
   ]
  },
  {
   "cell_type": "code",
   "execution_count": 388,
   "metadata": {},
   "outputs": [],
   "source": [
    "def mutation(x):\n",
    "    base = 7\n",
    "    start = np.random.randint(1, math.floor(base))\n",
    "    end = start + 1\n",
    "    x_string = str(bin(x)).lstrip(\"0b\")\n",
    "\n",
    "    if len(x_string) != base:\n",
    "        for i in range(base - len(x_string)):\n",
    "            x_string = '0' + x_string\n",
    "    \n",
    "    x_string = list(x_string)\n",
    "    for c in range(start, end):\n",
    "        x_string[c] = '1' if x_string[c] == '0' else '0'\n",
    "\n",
    "    \n",
    "    return ''.join(x_string)\n"
   ]
  },
  {
   "cell_type": "code",
   "execution_count": 389,
   "metadata": {},
   "outputs": [
    {
     "name": "stdout",
     "output_type": "stream",
     "text": [
      "Original bitstring: 10010101\n",
      "Mutated bitstring: 10000101\n"
     ]
    }
   ],
   "source": [
    "x = values[values.size - 3]\n",
    "y = int(x)\n",
    "\n",
    "b = float_bin_whole(x)\n",
    "print(\"Original bitstring: \" + b)\n",
    "\n",
    "mutated = mutation(y)\n",
    "print(\"Mutated bitstring: \" + mutated)"
   ]
  },
  {
   "cell_type": "markdown",
   "metadata": {},
   "source": [
    "## Crossover"
   ]
  },
  {
   "cell_type": "code",
   "execution_count": 390,
   "metadata": {},
   "outputs": [],
   "source": [
    "def crossover(x, y):\n",
    "    x_array = np.array([])\n",
    "    y_array = np.array([])\n",
    "    for i, v in enumerate(x):\n",
    "        x_array = np.append(x_array,int(v))\n",
    "    for i, v in enumerate(y):\n",
    "        y_array = np.append(y_array,int(v))\n",
    "    \n",
    "    child1 = np.concatenate((x_array[:4], y_array[4:]))\n",
    "    child2 = np.concatenate((y_array[:4], x_array[4:]))\n",
    "\n",
    "    crossoverstring1 = \"\"\n",
    "    crossoverstring2 = \"\"\n",
    "    for i in range(len(child1)):\n",
    "        b = int(child1[i])\n",
    "        c = int(child2[i])\n",
    "        crossoverstring1 = crossoverstring1 + str(b)\n",
    "        crossoverstring2 = crossoverstring2 + str(c)\n",
    "\n",
    "    return int(crossoverstring1), int(crossoverstring2)"
   ]
  },
  {
   "cell_type": "code",
   "execution_count": 391,
   "metadata": {},
   "outputs": [
    {
     "name": "stdout",
     "output_type": "stream",
     "text": [
      "10011000 : 10010101\n"
     ]
    },
    {
     "data": {
      "text/plain": [
       "(10010101, 10011000)"
      ]
     },
     "execution_count": 391,
     "metadata": {},
     "output_type": "execute_result"
    }
   ],
   "source": [
    "x = values[values.size - 1]\n",
    "y = values[values.size - 6]\n",
    "\n",
    "x1 = float_bin_whole(x)\n",
    "y1 = float_bin_whole(y)\n",
    "print(x1 + \" : \" + y1)\n",
    "\n",
    "crossover(x1, y1)"
   ]
  }
 ],
 "metadata": {
  "kernelspec": {
   "display_name": "Python 3.10.8 64-bit",
   "language": "python",
   "name": "python3"
  },
  "language_info": {
   "codemirror_mode": {
    "name": "ipython",
    "version": 3
   },
   "file_extension": ".py",
   "mimetype": "text/x-python",
   "name": "python",
   "nbconvert_exporter": "python",
   "pygments_lexer": "ipython3",
   "version": "3.10.8"
  },
  "orig_nbformat": 4,
  "vscode": {
   "interpreter": {
    "hash": "aee8b7b246df8f9039afb4144a1f6fd8d2ca17a180786b69acc140d282b71a49"
   }
  }
 },
 "nbformat": 4,
 "nbformat_minor": 2
}
