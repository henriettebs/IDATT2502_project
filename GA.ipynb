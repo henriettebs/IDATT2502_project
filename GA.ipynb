{
 "cells": [
  {
   "cell_type": "code",
   "execution_count": 1,
   "metadata": {},
   "outputs": [],
   "source": [
    "import numpy as np\n",
    "import yfinance as yf\n",
    "\n",
    "#msft = yf.Ticker(\"MSFT\")\n",
    "#msft.splits"
   ]
  },
  {
   "cell_type": "code",
   "execution_count": 2,
   "metadata": {},
   "outputs": [],
   "source": [
    "#msft.calendar"
   ]
  },
  {
   "cell_type": "code",
   "execution_count": 3,
   "metadata": {},
   "outputs": [
    {
     "name": "stdout",
     "output_type": "stream",
     "text": [
      "[*********************100%***********************]  1 of 1 completed\n"
     ]
    }
   ],
   "source": [
    "data = yf.download(\"AAPL\", start=\"2021-10-17\", end=\"2021-10-29\")"
   ]
  },
  {
   "cell_type": "code",
   "execution_count": 4,
   "metadata": {},
   "outputs": [
    {
     "data": {
      "text/html": [
       "<div>\n",
       "<style scoped>\n",
       "    .dataframe tbody tr th:only-of-type {\n",
       "        vertical-align: middle;\n",
       "    }\n",
       "\n",
       "    .dataframe tbody tr th {\n",
       "        vertical-align: top;\n",
       "    }\n",
       "\n",
       "    .dataframe thead th {\n",
       "        text-align: right;\n",
       "    }\n",
       "</style>\n",
       "<table border=\"1\" class=\"dataframe\">\n",
       "  <thead>\n",
       "    <tr style=\"text-align: right;\">\n",
       "      <th></th>\n",
       "      <th>Open</th>\n",
       "      <th>High</th>\n",
       "      <th>Low</th>\n",
       "      <th>Close</th>\n",
       "      <th>Adj Close</th>\n",
       "      <th>Volume</th>\n",
       "    </tr>\n",
       "    <tr>\n",
       "      <th>Date</th>\n",
       "      <th></th>\n",
       "      <th></th>\n",
       "      <th></th>\n",
       "      <th></th>\n",
       "      <th></th>\n",
       "      <th></th>\n",
       "    </tr>\n",
       "  </thead>\n",
       "  <tbody>\n",
       "    <tr>\n",
       "      <th>2021-10-18</th>\n",
       "      <td>143.449997</td>\n",
       "      <td>146.839996</td>\n",
       "      <td>143.160004</td>\n",
       "      <td>146.550003</td>\n",
       "      <td>145.733368</td>\n",
       "      <td>85589200</td>\n",
       "    </tr>\n",
       "    <tr>\n",
       "      <th>2021-10-19</th>\n",
       "      <td>147.009995</td>\n",
       "      <td>149.169998</td>\n",
       "      <td>146.550003</td>\n",
       "      <td>148.759995</td>\n",
       "      <td>147.931061</td>\n",
       "      <td>76378900</td>\n",
       "    </tr>\n",
       "    <tr>\n",
       "      <th>2021-10-20</th>\n",
       "      <td>148.699997</td>\n",
       "      <td>149.750000</td>\n",
       "      <td>148.119995</td>\n",
       "      <td>149.259995</td>\n",
       "      <td>148.428268</td>\n",
       "      <td>58418800</td>\n",
       "    </tr>\n",
       "    <tr>\n",
       "      <th>2021-10-21</th>\n",
       "      <td>148.809998</td>\n",
       "      <td>149.639999</td>\n",
       "      <td>147.869995</td>\n",
       "      <td>149.479996</td>\n",
       "      <td>148.647034</td>\n",
       "      <td>61421000</td>\n",
       "    </tr>\n",
       "    <tr>\n",
       "      <th>2021-10-22</th>\n",
       "      <td>149.690002</td>\n",
       "      <td>150.179993</td>\n",
       "      <td>148.639999</td>\n",
       "      <td>148.690002</td>\n",
       "      <td>147.861450</td>\n",
       "      <td>58883400</td>\n",
       "    </tr>\n",
       "  </tbody>\n",
       "</table>\n",
       "</div>"
      ],
      "text/plain": [
       "                  Open        High         Low       Close   Adj Close  \\\n",
       "Date                                                                     \n",
       "2021-10-18  143.449997  146.839996  143.160004  146.550003  145.733368   \n",
       "2021-10-19  147.009995  149.169998  146.550003  148.759995  147.931061   \n",
       "2021-10-20  148.699997  149.750000  148.119995  149.259995  148.428268   \n",
       "2021-10-21  148.809998  149.639999  147.869995  149.479996  148.647034   \n",
       "2021-10-22  149.690002  150.179993  148.639999  148.690002  147.861450   \n",
       "\n",
       "              Volume  \n",
       "Date                  \n",
       "2021-10-18  85589200  \n",
       "2021-10-19  76378900  \n",
       "2021-10-20  58418800  \n",
       "2021-10-21  61421000  \n",
       "2021-10-22  58883400  "
      ]
     },
     "execution_count": 4,
     "metadata": {},
     "output_type": "execute_result"
    }
   ],
   "source": [
    "data.head()"
   ]
  },
  {
   "cell_type": "code",
   "execution_count": 5,
   "metadata": {},
   "outputs": [],
   "source": [
    "values = data['Close'].to_numpy()"
   ]
  },
  {
   "cell_type": "code",
   "execution_count": 6,
   "metadata": {},
   "outputs": [
    {
     "data": {
      "text/plain": [
       "array([146.55000305, 148.75999451, 149.25999451, 149.47999573,\n",
       "       148.69000244, 148.63999939, 149.32000732, 148.8500061 ,\n",
       "       152.57000732])"
      ]
     },
     "execution_count": 6,
     "metadata": {},
     "output_type": "execute_result"
    }
   ],
   "source": [
    "values"
   ]
  },
  {
   "cell_type": "markdown",
   "metadata": {},
   "source": [
    "### Fitness function\n",
    "It has been measured of central tendency calculated keeping in mind opening and closing price of the stock per day\n",
    "\n",
    "**[Source](https://link.springer.com/chapter/10.1007/978-981-16-4301-9_10)**"
   ]
  },
  {
   "cell_type": "code",
   "execution_count": 75,
   "metadata": {},
   "outputs": [],
   "source": [
    "def percentage_change_close(dataset, first, second):\n",
    "    pcc = 100 * (dataset[dataset.size - first]-dataset[dataset.size - second])/dataset[dataset.size - 1]\n",
    "    return pcc"
   ]
  },
  {
   "cell_type": "code",
   "execution_count": 77,
   "metadata": {},
   "outputs": [
    {
     "name": "stdout",
     "output_type": "stream",
     "text": [
      "Percentage change in closing values: \n"
     ]
    },
    {
     "data": {
      "text/plain": [
       "-0.30805610417540935"
      ]
     },
     "execution_count": 77,
     "metadata": {},
     "output_type": "execute_result"
    }
   ],
   "source": [
    "print(\"Percentage change in closing values: \")\n",
    "percentage_change_close(values, 2, 3)"
   ]
  },
  {
   "cell_type": "markdown",
   "metadata": {},
   "source": [
    "### Converts decimal number to binary number\n",
    "Splits whole and decimal number, and converts them seperately. Iterates through all the values, and add them to an array."
   ]
  },
  {
   "cell_type": "code",
   "execution_count": 7,
   "metadata": {},
   "outputs": [],
   "source": [
    "def float_bin(number, places):\n",
    "    whole, dec = str(number).split('.')\n",
    "\n",
    "    whole = int(whole)\n",
    "    dec = int(dec)\n",
    "\n",
    "    res = bin(whole).lstrip(\"0b\") + \".\"\n",
    "\n",
    "    for i in range(places):\n",
    "        whole, dec = str((decimal_converter(dec)) * 2).split(\".\")\n",
    "\n",
    "        dec = int(dec)\n",
    "\n",
    "        res += whole\n",
    "\n",
    "    res = float(res)\n",
    "    return res\n",
    "\n",
    "def decimal_converter(num):\n",
    "    while num > 1:\n",
    "        num /= 10\n",
    "    return num"
   ]
  },
  {
   "cell_type": "code",
   "execution_count": 8,
   "metadata": {},
   "outputs": [],
   "source": [
    "def binary_array():\n",
    "    binary_num = np.array([])\n",
    "    for i in range(values.size):\n",
    "        value = float_bin(values[i], 2)\n",
    "        binary_num = np.append(binary_num, value)\n",
    "    return binary_num"
   ]
  },
  {
   "cell_type": "code",
   "execution_count": 9,
   "metadata": {},
   "outputs": [
    {
     "name": "stdout",
     "output_type": "stream",
     "text": [
      "[10010010.1  10010100.11 10010101.01 10010101.01 10010100.1  10010100.1\n",
      " 10010101.01 10010100.11 10011000.1 ]\n"
     ]
    }
   ],
   "source": [
    "binary_num = np.array([])\n",
    "for i in range(values.size):\n",
    "    value = float_bin(values[i], 2)\n",
    "    binary_num = np.append(binary_num, value)\n",
    "print(binary_num)"
   ]
  },
  {
   "cell_type": "markdown",
   "metadata": {},
   "source": [
    "### Genes\n",
    "Random numbers (originally between -100 and 100)"
   ]
  },
  {
   "cell_type": "code",
   "execution_count": 26,
   "metadata": {},
   "outputs": [],
   "source": [
    "def genes():\n",
    "    a = 0\n",
    "    b = 100\n",
    "    x = a + (b - a) * np.random.rand(1,4)\n",
    "    genes = (x)\n",
    "    return genes"
   ]
  },
  {
   "cell_type": "code",
   "execution_count": 27,
   "metadata": {},
   "outputs": [
    {
     "name": "stdout",
     "output_type": "stream",
     "text": [
      "[66.56265162 44.03893777 76.89168697 26.70224328]\n"
     ]
    }
   ],
   "source": [
    "arr = np.array([])\n",
    "arr = genes()\n",
    "print(arr[0])"
   ]
  },
  {
   "cell_type": "markdown",
   "metadata": {},
   "source": [
    "### Failed fitness function\n",
    "Fitness function always returns number close to zero. Guessed value(y), mean squared error and error are abnormly huge.\n",
    "\n",
    "Taken from article found [here](https://medium.com/analytics-vidhya/stock-price-prediction-using-genetic-algorithms-65c64b002d9)"
   ]
  },
  {
   "cell_type": "code",
   "execution_count": 42,
   "metadata": {},
   "outputs": [],
   "source": [
    "from random import randint\n",
    "\n",
    "def fitness(data, genes):\n",
    "    mse = 0\n",
    "    x = genes[0]\n",
    "    y = x[0] + (1 + x[1])*data[data.size-2] - x[2]*data[data.size-3] + randint(0,1) + x[3]*randint(100,200)\n",
    "    yi = data[data.size-1]\n",
    "    mse = np.square(np.subtract(yi, y)).mean()\n",
    "    error = np.square(mse/10)\n",
    "    fitness = 1/error\n",
    "    return fitness, error, mse, y"
   ]
  },
  {
   "cell_type": "code",
   "execution_count": 43,
   "metadata": {},
   "outputs": [
    {
     "data": {
      "text/plain": [
       "(4.926687184333877e-09,\n",
       " 202976150.62304935,\n",
       " 142469.69875136585,\n",
       " -224.88157732123727)"
      ]
     },
     "execution_count": 43,
     "metadata": {},
     "output_type": "execute_result"
    }
   ],
   "source": [
    "fitness(values, arr)"
   ]
  },
  {
   "cell_type": "markdown",
   "metadata": {},
   "source": [
    "### Possible fitness solution??"
   ]
  },
  {
   "cell_type": "code",
   "execution_count": 93,
   "metadata": {},
   "outputs": [],
   "source": [
    "def fitness_possible(data):\n",
    "    x1 = data.size - 5\n",
    "    x2 = data.size - 6\n",
    "    change = 1 + (percentage_change_close(data, 6, 7)/100)\n",
    "    y = (change*(data[x1] + data[x2]))/2\n",
    "    yi = data[data.size - 1]\n",
    "\n",
    "    mse = np.square(np.subtract(yi, y)).mean()\n",
    "    error = np.square(mse/10)\n",
    "    fitness = 1/error\n",
    "\n",
    "    return y, data[x1], data[x2], change, mse, error, fitness"
   ]
  },
  {
   "cell_type": "code",
   "execution_count": 94,
   "metadata": {},
   "outputs": [
    {
     "data": {
      "text/plain": [
       "(149.29997503133362,\n",
       " 148.69000244140625,\n",
       " 149.47999572753906,\n",
       " 1.0014419689987666,\n",
       " 10.693111196511603,\n",
       " 1.1434262706096183,\n",
       " 0.8745644784484875)"
      ]
     },
     "execution_count": 94,
     "metadata": {},
     "output_type": "execute_result"
    }
   ],
   "source": [
    "fitness_possible(values)"
   ]
  },
  {
   "cell_type": "code",
   "execution_count": null,
   "metadata": {},
   "outputs": [],
   "source": []
  }
 ],
 "metadata": {
  "kernelspec": {
   "display_name": "Python 3.10.8 64-bit",
   "language": "python",
   "name": "python3"
  },
  "language_info": {
   "codemirror_mode": {
    "name": "ipython",
    "version": 3
   },
   "file_extension": ".py",
   "mimetype": "text/x-python",
   "name": "python",
   "nbconvert_exporter": "python",
   "pygments_lexer": "ipython3",
   "version": "3.10.8"
  },
  "orig_nbformat": 4,
  "vscode": {
   "interpreter": {
    "hash": "aee8b7b246df8f9039afb4144a1f6fd8d2ca17a180786b69acc140d282b71a49"
   }
  }
 },
 "nbformat": 4,
 "nbformat_minor": 2
}
