{
 "cells": [
  {
   "cell_type": "code",
   "execution_count": 88,
   "metadata": {},
   "outputs": [],
   "source": [
    "import numpy as np\n",
    "import math\n",
    "import yfinance as yf\n",
    "\n",
    "#msft = yf.Ticker(\"MSFT\")\n",
    "#msft.splits"
   ]
  },
  {
   "cell_type": "code",
   "execution_count": 4,
   "metadata": {},
   "outputs": [],
   "source": [
    "#msft.calendar"
   ]
  },
  {
   "cell_type": "code",
   "execution_count": 31,
   "metadata": {},
   "outputs": [
    {
     "name": "stdout",
     "output_type": "stream",
     "text": [
      "[*********************100%***********************]  1 of 1 completed\n"
     ]
    }
   ],
   "source": [
    "data = yf.download(\"AAPL\", start=\"2021-07-17\", end=\"2021-10-29\")"
   ]
  },
  {
   "cell_type": "code",
   "execution_count": 32,
   "metadata": {},
   "outputs": [
    {
     "data": {
      "text/html": [
       "<div>\n",
       "<style scoped>\n",
       "    .dataframe tbody tr th:only-of-type {\n",
       "        vertical-align: middle;\n",
       "    }\n",
       "\n",
       "    .dataframe tbody tr th {\n",
       "        vertical-align: top;\n",
       "    }\n",
       "\n",
       "    .dataframe thead th {\n",
       "        text-align: right;\n",
       "    }\n",
       "</style>\n",
       "<table border=\"1\" class=\"dataframe\">\n",
       "  <thead>\n",
       "    <tr style=\"text-align: right;\">\n",
       "      <th></th>\n",
       "      <th>Open</th>\n",
       "      <th>High</th>\n",
       "      <th>Low</th>\n",
       "      <th>Close</th>\n",
       "      <th>Adj Close</th>\n",
       "      <th>Volume</th>\n",
       "    </tr>\n",
       "    <tr>\n",
       "      <th>Date</th>\n",
       "      <th></th>\n",
       "      <th></th>\n",
       "      <th></th>\n",
       "      <th></th>\n",
       "      <th></th>\n",
       "      <th></th>\n",
       "    </tr>\n",
       "  </thead>\n",
       "  <tbody>\n",
       "    <tr>\n",
       "      <th>2021-07-19</th>\n",
       "      <td>143.750000</td>\n",
       "      <td>144.070007</td>\n",
       "      <td>141.669998</td>\n",
       "      <td>142.449997</td>\n",
       "      <td>141.210052</td>\n",
       "      <td>121434600</td>\n",
       "    </tr>\n",
       "    <tr>\n",
       "      <th>2021-07-20</th>\n",
       "      <td>143.460007</td>\n",
       "      <td>147.100006</td>\n",
       "      <td>142.960007</td>\n",
       "      <td>146.149994</td>\n",
       "      <td>144.877823</td>\n",
       "      <td>96350000</td>\n",
       "    </tr>\n",
       "    <tr>\n",
       "      <th>2021-07-21</th>\n",
       "      <td>145.529999</td>\n",
       "      <td>146.130005</td>\n",
       "      <td>144.630005</td>\n",
       "      <td>145.399994</td>\n",
       "      <td>144.134354</td>\n",
       "      <td>74993500</td>\n",
       "    </tr>\n",
       "    <tr>\n",
       "      <th>2021-07-22</th>\n",
       "      <td>145.940002</td>\n",
       "      <td>148.199997</td>\n",
       "      <td>145.809998</td>\n",
       "      <td>146.800003</td>\n",
       "      <td>145.522202</td>\n",
       "      <td>77338200</td>\n",
       "    </tr>\n",
       "    <tr>\n",
       "      <th>2021-07-23</th>\n",
       "      <td>147.550003</td>\n",
       "      <td>148.720001</td>\n",
       "      <td>146.919998</td>\n",
       "      <td>148.559998</td>\n",
       "      <td>147.266861</td>\n",
       "      <td>71447400</td>\n",
       "    </tr>\n",
       "  </tbody>\n",
       "</table>\n",
       "</div>"
      ],
      "text/plain": [
       "                  Open        High         Low       Close   Adj Close  \\\n",
       "Date                                                                     \n",
       "2021-07-19  143.750000  144.070007  141.669998  142.449997  141.210052   \n",
       "2021-07-20  143.460007  147.100006  142.960007  146.149994  144.877823   \n",
       "2021-07-21  145.529999  146.130005  144.630005  145.399994  144.134354   \n",
       "2021-07-22  145.940002  148.199997  145.809998  146.800003  145.522202   \n",
       "2021-07-23  147.550003  148.720001  146.919998  148.559998  147.266861   \n",
       "\n",
       "               Volume  \n",
       "Date                   \n",
       "2021-07-19  121434600  \n",
       "2021-07-20   96350000  \n",
       "2021-07-21   74993500  \n",
       "2021-07-22   77338200  \n",
       "2021-07-23   71447400  "
      ]
     },
     "execution_count": 32,
     "metadata": {},
     "output_type": "execute_result"
    }
   ],
   "source": [
    "data.head()"
   ]
  },
  {
   "cell_type": "code",
   "execution_count": 33,
   "metadata": {},
   "outputs": [],
   "source": [
    "values = data['Close'].to_numpy()"
   ]
  },
  {
   "cell_type": "code",
   "execution_count": 34,
   "metadata": {},
   "outputs": [
    {
     "data": {
      "text/plain": [
       "array([142.44999695, 146.1499939 , 145.3999939 , 146.80000305,\n",
       "       148.55999756, 148.99000549, 146.77000427, 144.97999573,\n",
       "       145.63999939, 145.86000061, 145.52000427, 147.36000061,\n",
       "       146.94999695, 147.05999756, 146.13999939, 146.08999634,\n",
       "       145.6000061 , 145.86000061, 148.88999939, 149.1000061 ,\n",
       "       151.11999512, 150.19000244, 146.36000061, 146.69999695,\n",
       "       148.19000244, 149.71000671, 149.61999512, 148.36000061,\n",
       "       147.53999329, 148.6000061 , 153.11999512, 151.83000183,\n",
       "       152.50999451, 153.6499939 , 154.30000305, 156.69000244,\n",
       "       155.11000061, 154.07000732, 148.97000122, 149.55000305,\n",
       "       148.11999512, 149.02999878, 148.78999329, 146.05999756,\n",
       "       142.94000244, 143.42999268, 145.8500061 , 146.83000183,\n",
       "       146.91999817, 145.36999512, 141.91000366, 142.83000183,\n",
       "       141.5       , 142.6499939 , 139.13999939, 141.11000061,\n",
       "       142.        , 143.28999329, 142.8999939 , 142.80999756,\n",
       "       141.50999451, 140.91000366, 143.75999451, 144.83999634,\n",
       "       146.55000305, 148.75999451, 149.25999451, 149.47999573,\n",
       "       148.69000244, 148.63999939, 149.32000732, 148.8500061 ,\n",
       "       152.57000732])"
      ]
     },
     "execution_count": 34,
     "metadata": {},
     "output_type": "execute_result"
    }
   ],
   "source": [
    "values"
   ]
  },
  {
   "cell_type": "markdown",
   "metadata": {},
   "source": [
    "### Fitness function\n",
    "It has been measured of central tendency calculated keeping in mind opening and closing price of the stock per day\n",
    "\n",
    "**[Source](https://link.springer.com/chapter/10.1007/978-981-16-4301-9_10)**"
   ]
  },
  {
   "cell_type": "code",
   "execution_count": 35,
   "metadata": {},
   "outputs": [],
   "source": [
    "def percentage_change_close(dataset, first, second):\n",
    "    pcc = 100 * (dataset[dataset.size - first]-dataset[dataset.size - second])/dataset[dataset.size - 1]\n",
    "    return pcc"
   ]
  },
  {
   "cell_type": "code",
   "execution_count": 36,
   "metadata": {},
   "outputs": [
    {
     "name": "stdout",
     "output_type": "stream",
     "text": [
      "Percentage change in closing values: \n"
     ]
    },
    {
     "data": {
      "text/plain": [
       "-0.30805610417540935"
      ]
     },
     "execution_count": 36,
     "metadata": {},
     "output_type": "execute_result"
    }
   ],
   "source": [
    "print(\"Percentage change in closing values: \")\n",
    "percentage_change_close(values, 2, 3)"
   ]
  },
  {
   "cell_type": "markdown",
   "metadata": {},
   "source": [
    "### Converts decimal number to binary number\n",
    "Splits whole and decimal number, and converts them seperately. Iterates through all the values, and add them to an array."
   ]
  },
  {
   "cell_type": "code",
   "execution_count": 46,
   "metadata": {},
   "outputs": [],
   "source": [
    "def float_bin(number, places):\n",
    "    whole, dec = str(number).split('.')\n",
    "\n",
    "    whole = int(whole)\n",
    "    dec = int(dec)\n",
    "\n",
    "    res = bin(whole).lstrip(\"0b\") + \".\"\n",
    "\n",
    "    for i in range(places):\n",
    "        whole, dec = str((decimal_converter(dec)) * 2).split(\".\")\n",
    "\n",
    "        dec = int(dec)\n",
    "\n",
    "        res += whole\n",
    "\n",
    "    res = float(res)\n",
    "    return res\n",
    "\n",
    "def decimal_converter(num):\n",
    "    while num > 1:\n",
    "        num /= 10\n",
    "    return num"
   ]
  },
  {
   "cell_type": "code",
   "execution_count": 64,
   "metadata": {},
   "outputs": [],
   "source": [
    "def float_bin_whole(number):\n",
    "    whole, dec = str(number).split('.')\n",
    "    whole = int(whole)\n",
    "\n",
    "    res = bin(whole).lstrip(\"0b\")\n",
    "    #res = int(res)\n",
    "    return res"
   ]
  },
  {
   "cell_type": "code",
   "execution_count": 65,
   "metadata": {},
   "outputs": [],
   "source": [
    "def binary_array():\n",
    "    binary_num = np.array([])\n",
    "    for i in range(values.size):\n",
    "        value = float_bin_whole(values[i])\n",
    "        binary_num = np.append(binary_num, value)\n",
    "    return binary_num"
   ]
  },
  {
   "cell_type": "code",
   "execution_count": 73,
   "metadata": {},
   "outputs": [
    {
     "name": "stdout",
     "output_type": "stream",
     "text": [
      "['10001110' '10010010' '10010001' '10010010' '10010100' '10010100'\n",
      " '10010010' '10010000' '10010001' '10010001' '10010001' '10010011'\n",
      " '10010010' '10010011' '10010010' '10010010' '10010001' '10010001'\n",
      " '10010100' '10010101' '10010111' '10010110' '10010010' '10010010'\n",
      " '10010100' '10010101' '10010101' '10010100' '10010011' '10010100'\n",
      " '10011001' '10010111' '10011000' '10011001' '10011010' '10011100'\n",
      " '10011011' '10011010' '10010100' '10010101' '10010100' '10010101'\n",
      " '10010100' '10010010' '10001110' '10001111' '10010001' '10010010'\n",
      " '10010010' '10010001' '10001101' '10001110' '10001101' '10001110'\n",
      " '10001011' '10001101' '10001110' '10001111' '10001110' '10001110'\n",
      " '10001101' '10001100' '10001111' '10010000' '10010010' '10010100'\n",
      " '10010101' '10010101' '10010100' '10010100' '10010101' '10010100'\n",
      " '10011000']\n"
     ]
    }
   ],
   "source": [
    "binary_num = np.array([])\n",
    "for i in range(values.size):\n",
    "    value = float_bin_whole(values[i])\n",
    "    # value = int(value)\n",
    "    binary_num = np.append(binary_num, value)\n",
    "print(binary_num)"
   ]
  },
  {
   "cell_type": "markdown",
   "metadata": {},
   "source": [
    "### Possible fitness solution?"
   ]
  },
  {
   "cell_type": "code",
   "execution_count": 311,
   "metadata": {},
   "outputs": [],
   "source": [
    "def fitness_possible(data, a, b, c, pred):\n",
    "    x1 = data.size - a\n",
    "    x2 = data.size - b\n",
    "    change = 1 + (percentage_change_close(data, b, c)/100)\n",
    "    y = (change*(data[x1] + data[x2]))/2\n",
    "    yi = data[data.size - pred]\n",
    "\n",
    "    mse = np.square(np.subtract(yi, y)).mean()\n",
    "    error = np.square(mse/10)\n",
    "    #fitness = 1/error\n",
    "\n",
    "    return  error #, fitness, y, yi, data[x1], data[x2], change, mse,"
   ]
  },
  {
   "cell_type": "code",
   "execution_count": 313,
   "metadata": {},
   "outputs": [
    {
     "name": "stdout",
     "output_type": "stream",
     "text": [
      "0.632878090559448\n",
      "4.3410916980001766e-07\n",
      "0.04120891329006635\n",
      "0.0018971934987837143\n",
      "0.01870722165989738\n",
      "0.08126904235710042\n",
      "6.211839592901384e-08\n",
      "0.17104594759714242\n",
      "0.00039390549291725053\n",
      "0.8822132695682521\n",
      "1.9843046175157266\n",
      "0.018492587001512368\n",
      "0.009217484083218952\n",
      "0.049936958909004694\n",
      "0.0011092299275649645\n",
      "7.410377567546486e-07\n",
      "6.758237939133495\n",
      "0.005146507118464751\n",
      "0.08283219761298174\n",
      "0.0001920433010547115\n",
      "0.3095070253733144\n",
      "0.001777198695997001\n",
      "3.4867212599401696\n",
      "0.3593716154536443\n",
      "0.09191696349943475\n",
      "0.08864204209993909\n",
      "9.786003496717049\n",
      "0.05276248857547729\n",
      "3.272010029366102\n",
      "1.9527071739554467\n",
      "0.06678341116075423\n",
      "0.00018904905618365866\n",
      "2.195591948869981\n",
      "0.007713735812483167\n",
      "2.609200602773264\n",
      "3.3311110995098274\n",
      "0.012038468745756106\n",
      "0.05991140537468437\n",
      "0.000836179886412456\n",
      "0.5858545712206007\n",
      "4.036049713075584\n",
      "3.7264269466508695e-07\n",
      "11.67833220710071\n",
      "0.12276757264222239\n",
      "0.03442250293039332\n",
      "0.6112062522122899\n",
      "0.0037907936224760032\n",
      "0.14060754002209105\n",
      "8.121541935882226\n",
      "0.0020294928693438677\n",
      "15.649526622024203\n",
      "2.5703512825916314e-06\n",
      "0.004838162291780796\n",
      "0.047187842837322455\n",
      "1.7325199554370736\n",
      "1.555228750353285e-07\n",
      "0.0001796042567605306\n",
      "0.0014370513169806472\n",
      "0.0004877569019861577\n",
      "0.12220267924315752\n",
      "0.0048922817966665436\n",
      "0.04542694156278684\n",
      "0.005482729005614756\n",
      "0.2584988632916698\n",
      "0.12694766539939342\n",
      "1.2102537282765582\n",
      "1.917513964162773\n",
      "4.1491000203553754e-08\n",
      "1.0202852236644677\n",
      "0.397039725978842\n",
      "129.6865166740779\n",
      "6.035980048649529\n",
      "36.934228056427166\n"
     ]
    }
   ],
   "source": [
    "for i in range(values.size):\n",
    "    fitness = fitness_possible(values, i + 2, i + 3, i + 4, i + 1)\n",
    "    print(fitness)"
   ]
  },
  {
   "cell_type": "markdown",
   "metadata": {},
   "source": [
    "## Mutation"
   ]
  },
  {
   "cell_type": "code",
   "execution_count": 148,
   "metadata": {},
   "outputs": [],
   "source": [
    "def mutation(x):\n",
    "    base = 7\n",
    "    start = np.random.randint(1, math.floor(base))\n",
    "    #end = np.random.randint(start, math.floor(base))\n",
    "    end = start + 1\n",
    "    x_string = str(bin(x))[2:]\n",
    "\n",
    "    if len(x_string) != base:\n",
    "        for i in range(base - len(x_string)):\n",
    "            x_string = '0' + x_string\n",
    "    \n",
    "    x_string = list(x_string)\n",
    "    for c in range(start, end):\n",
    "        x_string[c] = '1' if x_string[c] == '0' else '0'\n",
    "\n",
    "    \n",
    "    return ''.join(x_string)\n"
   ]
  },
  {
   "cell_type": "code",
   "execution_count": 153,
   "metadata": {},
   "outputs": [
    {
     "name": "stdout",
     "output_type": "stream",
     "text": [
      "Original bitstring: 10010101\n",
      "Mutated bitstring: 10110101\n"
     ]
    }
   ],
   "source": [
    "x = values[values.size - 3]\n",
    "y = int(x)\n",
    "\n",
    "b = float_bin_whole(x)\n",
    "print(\"Original bitstring: \" + b)\n",
    "\n",
    "mutated = mutation(y)\n",
    "print(\"Mutated bitstring: \" + mutated)"
   ]
  },
  {
   "cell_type": "markdown",
   "metadata": {},
   "source": [
    "## Crossover"
   ]
  },
  {
   "cell_type": "code",
   "execution_count": 318,
   "metadata": {},
   "outputs": [],
   "source": [
    "def crossover(x, y):\n",
    "    x_array = np.array([])\n",
    "    y_array = np.array([])\n",
    "    for i, v in enumerate(x):\n",
    "        x_array = np.append(x_array,int(v))\n",
    "    for i, v in enumerate(y):\n",
    "        y_array = np.append(y_array,int(v))\n",
    "    \n",
    "    child1 = np.concatenate((x_array[:4], y_array[4:]))\n",
    "    child2 = np.concatenate((y_array[:4], x_array[4:]))\n",
    "\n",
    "    crossoverstring1 = \"\"\n",
    "    crossoverstring2 = \"\"\n",
    "    for i in range(len(child1)):\n",
    "        b = int(child1[i])\n",
    "        c = int(child2[i])\n",
    "        crossoverstring1 = crossoverstring1 + str(b)\n",
    "        crossoverstring2 = crossoverstring2 + str(c)\n",
    "\n",
    "    return int(crossoverstring1), int(crossoverstring2)"
   ]
  },
  {
   "cell_type": "code",
   "execution_count": 321,
   "metadata": {},
   "outputs": [
    {
     "name": "stdout",
     "output_type": "stream",
     "text": [
      "10011000 : 10010101\n"
     ]
    },
    {
     "data": {
      "text/plain": [
       "(10010101, 10011000)"
      ]
     },
     "execution_count": 321,
     "metadata": {},
     "output_type": "execute_result"
    }
   ],
   "source": [
    "x = values[values.size - 1]\n",
    "y = values[values.size - 6]\n",
    "\n",
    "x1 = float_bin_whole(x)\n",
    "y1 = float_bin_whole(y)\n",
    "print(x1 + \" : \" + y1)\n",
    "\n",
    "crossover(x1, y1)"
   ]
  },
  {
   "cell_type": "code",
   "execution_count": null,
   "metadata": {},
   "outputs": [],
   "source": []
  },
  {
   "cell_type": "code",
   "execution_count": null,
   "metadata": {},
   "outputs": [],
   "source": []
  }
 ],
 "metadata": {
  "kernelspec": {
   "display_name": "Python 3.10.8 64-bit",
   "language": "python",
   "name": "python3"
  },
  "language_info": {
   "codemirror_mode": {
    "name": "ipython",
    "version": 3
   },
   "file_extension": ".py",
   "mimetype": "text/x-python",
   "name": "python",
   "nbconvert_exporter": "python",
   "pygments_lexer": "ipython3",
   "version": "3.10.8"
  },
  "orig_nbformat": 4,
  "vscode": {
   "interpreter": {
    "hash": "aee8b7b246df8f9039afb4144a1f6fd8d2ca17a180786b69acc140d282b71a49"
   }
  }
 },
 "nbformat": 4,
 "nbformat_minor": 2
}
